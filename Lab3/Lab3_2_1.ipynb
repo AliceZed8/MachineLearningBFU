{
 "cells": [
  {
   "cell_type": "markdown",
   "id": "976ca491-60ad-4a7b-ba52-617c29bcad99",
   "metadata": {},
   "source": [
    "# Лабораторная работа 3.2 часть 1"
   ]
  },
  {
   "cell_type": "code",
   "execution_count": 61,
   "id": "ed08a31b-b139-406a-85b4-cc5c12840fdd",
   "metadata": {},
   "outputs": [],
   "source": [
    "import pandas as pd\n",
    "import numpy as np\n",
    "import matplotlib.pyplot as plt\n",
    "import seaborn as sns\n",
    "\n",
    "\n",
    "from sklearn.linear_model import LogisticRegression\n",
    "from sklearn.model_selection import train_test_split\n",
    "from sklearn.metrics import accuracy_score\n",
    "\n",
    "%matplotlib inline"
   ]
  },
  {
   "cell_type": "code",
   "execution_count": 62,
   "id": "6d35ac0a-9e00-43bb-ab2a-fbae0e011b50",
   "metadata": {},
   "outputs": [
    {
     "data": {
      "text/html": [
       "<div>\n",
       "<style scoped>\n",
       "    .dataframe tbody tr th:only-of-type {\n",
       "        vertical-align: middle;\n",
       "    }\n",
       "\n",
       "    .dataframe tbody tr th {\n",
       "        vertical-align: top;\n",
       "    }\n",
       "\n",
       "    .dataframe thead th {\n",
       "        text-align: right;\n",
       "    }\n",
       "</style>\n",
       "<table border=\"1\" class=\"dataframe\">\n",
       "  <thead>\n",
       "    <tr style=\"text-align: right;\">\n",
       "      <th></th>\n",
       "      <th>PassengerId</th>\n",
       "      <th>Survived</th>\n",
       "      <th>Pclass</th>\n",
       "      <th>Name</th>\n",
       "      <th>Sex</th>\n",
       "      <th>Age</th>\n",
       "      <th>SibSp</th>\n",
       "      <th>Parch</th>\n",
       "      <th>Ticket</th>\n",
       "      <th>Fare</th>\n",
       "      <th>Cabin</th>\n",
       "      <th>Embarked</th>\n",
       "    </tr>\n",
       "  </thead>\n",
       "  <tbody>\n",
       "    <tr>\n",
       "      <th>0</th>\n",
       "      <td>1</td>\n",
       "      <td>0</td>\n",
       "      <td>3</td>\n",
       "      <td>Braund, Mr. Owen Harris</td>\n",
       "      <td>male</td>\n",
       "      <td>22.0</td>\n",
       "      <td>1</td>\n",
       "      <td>0</td>\n",
       "      <td>A/5 21171</td>\n",
       "      <td>7.2500</td>\n",
       "      <td>NaN</td>\n",
       "      <td>S</td>\n",
       "    </tr>\n",
       "    <tr>\n",
       "      <th>1</th>\n",
       "      <td>2</td>\n",
       "      <td>1</td>\n",
       "      <td>1</td>\n",
       "      <td>Cumings, Mrs. John Bradley (Florence Briggs Th...</td>\n",
       "      <td>female</td>\n",
       "      <td>38.0</td>\n",
       "      <td>1</td>\n",
       "      <td>0</td>\n",
       "      <td>PC 17599</td>\n",
       "      <td>71.2833</td>\n",
       "      <td>C85</td>\n",
       "      <td>C</td>\n",
       "    </tr>\n",
       "    <tr>\n",
       "      <th>2</th>\n",
       "      <td>3</td>\n",
       "      <td>1</td>\n",
       "      <td>3</td>\n",
       "      <td>Heikkinen, Miss. Laina</td>\n",
       "      <td>female</td>\n",
       "      <td>26.0</td>\n",
       "      <td>0</td>\n",
       "      <td>0</td>\n",
       "      <td>STON/O2. 3101282</td>\n",
       "      <td>7.9250</td>\n",
       "      <td>NaN</td>\n",
       "      <td>S</td>\n",
       "    </tr>\n",
       "    <tr>\n",
       "      <th>3</th>\n",
       "      <td>4</td>\n",
       "      <td>1</td>\n",
       "      <td>1</td>\n",
       "      <td>Futrelle, Mrs. Jacques Heath (Lily May Peel)</td>\n",
       "      <td>female</td>\n",
       "      <td>35.0</td>\n",
       "      <td>1</td>\n",
       "      <td>0</td>\n",
       "      <td>113803</td>\n",
       "      <td>53.1000</td>\n",
       "      <td>C123</td>\n",
       "      <td>S</td>\n",
       "    </tr>\n",
       "    <tr>\n",
       "      <th>4</th>\n",
       "      <td>5</td>\n",
       "      <td>0</td>\n",
       "      <td>3</td>\n",
       "      <td>Allen, Mr. William Henry</td>\n",
       "      <td>male</td>\n",
       "      <td>35.0</td>\n",
       "      <td>0</td>\n",
       "      <td>0</td>\n",
       "      <td>373450</td>\n",
       "      <td>8.0500</td>\n",
       "      <td>NaN</td>\n",
       "      <td>S</td>\n",
       "    </tr>\n",
       "  </tbody>\n",
       "</table>\n",
       "</div>"
      ],
      "text/plain": [
       "   PassengerId  Survived  Pclass  \\\n",
       "0            1         0       3   \n",
       "1            2         1       1   \n",
       "2            3         1       3   \n",
       "3            4         1       1   \n",
       "4            5         0       3   \n",
       "\n",
       "                                                Name     Sex   Age  SibSp  \\\n",
       "0                            Braund, Mr. Owen Harris    male  22.0      1   \n",
       "1  Cumings, Mrs. John Bradley (Florence Briggs Th...  female  38.0      1   \n",
       "2                             Heikkinen, Miss. Laina  female  26.0      0   \n",
       "3       Futrelle, Mrs. Jacques Heath (Lily May Peel)  female  35.0      1   \n",
       "4                           Allen, Mr. William Henry    male  35.0      0   \n",
       "\n",
       "   Parch            Ticket     Fare Cabin Embarked  \n",
       "0      0         A/5 21171   7.2500   NaN        S  \n",
       "1      0          PC 17599  71.2833   C85        C  \n",
       "2      0  STON/O2. 3101282   7.9250   NaN        S  \n",
       "3      0            113803  53.1000  C123        S  \n",
       "4      0            373450   8.0500   NaN        S  "
      ]
     },
     "execution_count": 62,
     "metadata": {},
     "output_type": "execute_result"
    }
   ],
   "source": [
    "df = pd.read_csv('Titanic.csv')\n",
    "df.head()"
   ]
  },
  {
   "cell_type": "markdown",
   "id": "808e91c8-87ca-4485-89ba-27b42b9a9cc0",
   "metadata": {},
   "source": [
    "## Задание 1"
   ]
  },
  {
   "cell_type": "markdown",
   "id": "9ae2975f-a77d-4d9a-bbee-7258ed0b3ed9",
   "metadata": {},
   "source": [
    "Удалить строки с пропусками"
   ]
  },
  {
   "cell_type": "code",
   "execution_count": 63,
   "id": "5398ffdd-cc65-4202-972f-efa7b32bb5fb",
   "metadata": {},
   "outputs": [],
   "source": [
    "df_cleaned = df.dropna()"
   ]
  },
  {
   "cell_type": "markdown",
   "id": "2a598d6d-2df7-48b4-91f7-49abb43b4f82",
   "metadata": {},
   "source": [
    "Удалить нечисловые столбцы, кроме 'Sex' и 'Embarked'"
   ]
  },
  {
   "cell_type": "code",
   "execution_count": 64,
   "id": "3996f0fd-0ec2-4f63-988d-a32f593cbe33",
   "metadata": {},
   "outputs": [],
   "source": [
    "non_numeric_cols = df_cleaned.select_dtypes(include=['object']).columns\n",
    "cols_to_drop = [col for col in non_numeric_cols if col not in ['Sex', 'Embarked']]\n",
    "df_cleaned = df_cleaned.drop(columns=cols_to_drop)"
   ]
  },
  {
   "cell_type": "markdown",
   "id": "46baf1b9-eae8-4047-bb4d-dc0fbaa7cf31",
   "metadata": {},
   "source": [
    "Перекодировать Sex и Embarked"
   ]
  },
  {
   "cell_type": "code",
   "execution_count": 65,
   "id": "8b05e762-33bf-4a28-8c0a-c3b239bcabdd",
   "metadata": {},
   "outputs": [],
   "source": [
    "df_cleaned['Sex'] = df_cleaned['Sex'].map({'male': 0, 'female': 1})\n",
    "embarked_mapping = {'S': 1, 'C': 2, 'Q': 3}\n",
    "df_cleaned['Embarked'] = df_cleaned['Embarked'].map(embarked_mapping)"
   ]
  },
  {
   "cell_type": "markdown",
   "id": "e9305dac-d320-4cbf-880d-8d7a3d627c5d",
   "metadata": {},
   "source": [
    "Удалить PassengerId"
   ]
  },
  {
   "cell_type": "code",
   "execution_count": 66,
   "id": "2d9495fd-2ee8-48a8-a342-204146bf7607",
   "metadata": {},
   "outputs": [],
   "source": [
    "if 'PassengerId' in df_cleaned.columns:\n",
    "    df_cleaned = df_cleaned.drop(columns=['PassengerId'])"
   ]
  },
  {
   "cell_type": "markdown",
   "id": "542833d2-07bc-4cd4-b757-dcf503bb5cdf",
   "metadata": {},
   "source": [
    "Процент потерянных данных"
   ]
  },
  {
   "cell_type": "markdown",
   "id": "d1d6f28e-e19b-49fa-94aa-428e64abad95",
   "metadata": {},
   "source": [
    "initial_len = len(df)\n",
    "final_len = len(df_cleaned)\n",
    "loss_percent = (initial_len - final_len) / initial_len * 100\n",
    "print(f\"Процент потерянных данных: {loss_percent:.2f}%\")"
   ]
  },
  {
   "cell_type": "markdown",
   "id": "0133c471-85a0-4de8-a0a2-caea6abf8132",
   "metadata": {},
   "source": [
    "## Задание 2"
   ]
  },
  {
   "cell_type": "markdown",
   "id": "e6a7e332-1120-4a4c-9f95-25426210cd33",
   "metadata": {},
   "source": [
    "Разделение данных"
   ]
  },
  {
   "cell_type": "code",
   "execution_count": 67,
   "id": "77d6daa0-0e54-45f2-b0b6-878842324070",
   "metadata": {},
   "outputs": [],
   "source": [
    "X = df_cleaned.drop(columns=['Survived'])\n",
    "y = df_cleaned['Survived']\n",
    "X_train, X_test, y_train, y_test = train_test_split(X, y, test_size=0.2)"
   ]
  },
  {
   "cell_type": "markdown",
   "id": "880c18da-af60-4f7f-b118-0ea75be2fee5",
   "metadata": {},
   "source": [
    "Обучение логистической регрессии"
   ]
  },
  {
   "cell_type": "code",
   "execution_count": 68,
   "id": "08d25507-e136-481a-9cec-25782e051189",
   "metadata": {},
   "outputs": [
    {
     "name": "stdout",
     "output_type": "stream",
     "text": [
      "Точность модели: 0.7027027027027027\n"
     ]
    }
   ],
   "source": [
    "clf = LogisticRegression(random_state=0, max_iter=1000)\n",
    "clf.fit(X_train, y_train)\n",
    "\n",
    "y_pred = clf.predict(X_test)\n",
    "print(\"Точность модели:\", accuracy_score(y_test, y_pred))"
   ]
  },
  {
   "cell_type": "markdown",
   "id": "64b6a805-7989-47ba-9daf-af72a677f802",
   "metadata": {},
   "source": [
    "### Влияние Embarked"
   ]
  },
  {
   "cell_type": "markdown",
   "id": "873a48e1-4cbe-4f1f-aebc-dc7cf527b3d2",
   "metadata": {},
   "source": [
    "Удалим Embarked и проверим точность"
   ]
  },
  {
   "cell_type": "code",
   "execution_count": 69,
   "id": "1fbbda9e-072b-41ac-94fa-908135019c16",
   "metadata": {},
   "outputs": [
    {
     "name": "stdout",
     "output_type": "stream",
     "text": [
      "Точность модели без Embarked: 0.7297297297297297\n"
     ]
    }
   ],
   "source": [
    "X_no_embarked = X.drop(columns=['Embarked'])\n",
    "X_train2, X_test2, y_train2, y_test2 = train_test_split(X_no_embarked, y, test_size=0.2, random_state=42)\n",
    "\n",
    "clf2 = LogisticRegression(random_state=0, max_iter=1000)\n",
    "clf2.fit(X_train2, y_train2)\n",
    "\n",
    "y_pred2 = clf2.predict(X_test2)\n",
    "print(\"Точность модели без Embarked:\", accuracy_score(y_test2, y_pred2))\n"
   ]
  },
  {
   "cell_type": "markdown",
   "id": "c8e99041-c821-4dde-ac02-d3b063408d5b",
   "metadata": {},
   "source": [
    "Точность изменилась почти на 4%, значит этот признак оказал не сильное влияние"
   ]
  }
 ],
 "metadata": {
  "kernelspec": {
   "display_name": ".pyenv",
   "language": "python",
   "name": ".pyenv"
  },
  "language_info": {
   "codemirror_mode": {
    "name": "ipython",
    "version": 3
   },
   "file_extension": ".py",
   "mimetype": "text/x-python",
   "name": "python",
   "nbconvert_exporter": "python",
   "pygments_lexer": "ipython3",
   "version": "3.13.3"
  }
 },
 "nbformat": 4,
 "nbformat_minor": 5
}
