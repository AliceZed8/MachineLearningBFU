{
 "cells": [
  {
   "cell_type": "markdown",
   "id": "30a6e1db-e7a9-4558-bdec-0c82d7743380",
   "metadata": {},
   "source": [
    "# Лабораторная работа 5.3"
   ]
  },
  {
   "cell_type": "code",
   "execution_count": 28,
   "id": "ab4bca33-c705-4bf2-9346-46fe287bf55f",
   "metadata": {},
   "outputs": [],
   "source": [
    "import pandas as pd\n",
    "import numpy as np\n",
    "import seaborn as sns\n",
    "import matplotlib.pyplot as plt\n",
    "import time\n",
    "\n",
    "from sklearn.ensemble import RandomForestClassifier\n",
    "from sklearn.metrics import accuracy_score\n",
    "from sklearn.model_selection import train_test_split\n",
    "from xgboost import XGBClassifier\n",
    "from sklearn.metrics import accuracy_score, classification_report, roc_auc_score\n",
    "from sklearn.model_selection import RandomizedSearchCV, cross_val_score\n",
    "from scipy.stats import uniform, randint\n",
    "from hyperopt import hp, fmin, tpe, Trials, STATUS_OK\n",
    "\n",
    "%matplotlib inline"
   ]
  },
  {
   "cell_type": "code",
   "execution_count": 19,
   "id": "70be8630-ca49-444e-9ca1-45dab4c696c1",
   "metadata": {},
   "outputs": [
    {
     "data": {
      "text/html": [
       "<div>\n",
       "<style scoped>\n",
       "    .dataframe tbody tr th:only-of-type {\n",
       "        vertical-align: middle;\n",
       "    }\n",
       "\n",
       "    .dataframe tbody tr th {\n",
       "        vertical-align: top;\n",
       "    }\n",
       "\n",
       "    .dataframe thead th {\n",
       "        text-align: right;\n",
       "    }\n",
       "</style>\n",
       "<table border=\"1\" class=\"dataframe\">\n",
       "  <thead>\n",
       "    <tr style=\"text-align: right;\">\n",
       "      <th></th>\n",
       "      <th>Pregnancies</th>\n",
       "      <th>Glucose</th>\n",
       "      <th>BloodPressure</th>\n",
       "      <th>SkinThickness</th>\n",
       "      <th>Insulin</th>\n",
       "      <th>BMI</th>\n",
       "      <th>DiabetesPedigreeFunction</th>\n",
       "      <th>Age</th>\n",
       "      <th>Outcome</th>\n",
       "    </tr>\n",
       "  </thead>\n",
       "  <tbody>\n",
       "    <tr>\n",
       "      <th>0</th>\n",
       "      <td>6</td>\n",
       "      <td>148</td>\n",
       "      <td>72</td>\n",
       "      <td>35</td>\n",
       "      <td>0</td>\n",
       "      <td>33.6</td>\n",
       "      <td>0.627</td>\n",
       "      <td>50</td>\n",
       "      <td>1</td>\n",
       "    </tr>\n",
       "    <tr>\n",
       "      <th>1</th>\n",
       "      <td>1</td>\n",
       "      <td>85</td>\n",
       "      <td>66</td>\n",
       "      <td>29</td>\n",
       "      <td>0</td>\n",
       "      <td>26.6</td>\n",
       "      <td>0.351</td>\n",
       "      <td>31</td>\n",
       "      <td>0</td>\n",
       "    </tr>\n",
       "    <tr>\n",
       "      <th>2</th>\n",
       "      <td>8</td>\n",
       "      <td>183</td>\n",
       "      <td>64</td>\n",
       "      <td>0</td>\n",
       "      <td>0</td>\n",
       "      <td>23.3</td>\n",
       "      <td>0.672</td>\n",
       "      <td>32</td>\n",
       "      <td>1</td>\n",
       "    </tr>\n",
       "    <tr>\n",
       "      <th>3</th>\n",
       "      <td>1</td>\n",
       "      <td>89</td>\n",
       "      <td>66</td>\n",
       "      <td>23</td>\n",
       "      <td>94</td>\n",
       "      <td>28.1</td>\n",
       "      <td>0.167</td>\n",
       "      <td>21</td>\n",
       "      <td>0</td>\n",
       "    </tr>\n",
       "    <tr>\n",
       "      <th>4</th>\n",
       "      <td>0</td>\n",
       "      <td>137</td>\n",
       "      <td>40</td>\n",
       "      <td>35</td>\n",
       "      <td>168</td>\n",
       "      <td>43.1</td>\n",
       "      <td>2.288</td>\n",
       "      <td>33</td>\n",
       "      <td>1</td>\n",
       "    </tr>\n",
       "  </tbody>\n",
       "</table>\n",
       "</div>"
      ],
      "text/plain": [
       "   Pregnancies  Glucose  BloodPressure  SkinThickness  Insulin   BMI  \\\n",
       "0            6      148             72             35        0  33.6   \n",
       "1            1       85             66             29        0  26.6   \n",
       "2            8      183             64              0        0  23.3   \n",
       "3            1       89             66             23       94  28.1   \n",
       "4            0      137             40             35      168  43.1   \n",
       "\n",
       "   DiabetesPedigreeFunction  Age  Outcome  \n",
       "0                     0.627   50        1  \n",
       "1                     0.351   31        0  \n",
       "2                     0.672   32        1  \n",
       "3                     0.167   21        0  \n",
       "4                     2.288   33        1  "
      ]
     },
     "execution_count": 19,
     "metadata": {},
     "output_type": "execute_result"
    }
   ],
   "source": [
    "diabetes = pd.read_csv(\"diabetes.csv\")\n",
    "diabetes.head()"
   ]
  },
  {
   "cell_type": "code",
   "execution_count": 20,
   "id": "d7fc20f6-de94-463c-b83a-4b89f3901aab",
   "metadata": {},
   "outputs": [],
   "source": [
    "X = diabetes.drop(columns=['Outcome'])\n",
    "y = diabetes['Outcome']"
   ]
  },
  {
   "cell_type": "code",
   "execution_count": 21,
   "id": "60c41455-407d-494a-bf05-3800f4aff908",
   "metadata": {},
   "outputs": [],
   "source": [
    "X_train, X_test, y_train, y_test = train_test_split(X, y, test_size=0.3)"
   ]
  },
  {
   "cell_type": "markdown",
   "id": "dd6cf294-3788-4fdf-aff3-862f185ab489",
   "metadata": {},
   "source": [
    "## Задание 1"
   ]
  },
  {
   "cell_type": "code",
   "execution_count": 22,
   "id": "f1298c75-d97c-41c5-80a7-7a6bf5451a41",
   "metadata": {},
   "outputs": [],
   "source": [
    "param_dist = {\n",
    "    'max_depth': randint(3, 10),\n",
    "    'learning_rate': uniform(0.01, 0.3),\n",
    "    'n_estimators': randint(50, 300),\n",
    "    'subsample': uniform(0.6, 0.4),\n",
    "    'colsample_bytree': uniform(0.6, 0.4),\n",
    "    'gamma': uniform(0, 0.5)\n",
    "}"
   ]
  },
  {
   "cell_type": "code",
   "execution_count": 23,
   "id": "f8bb6678-0415-4df7-870c-03cb0f092631",
   "metadata": {},
   "outputs": [],
   "source": [
    "xgb = XGBClassifier(eval_metric='logloss')\n",
    "\n",
    "\n",
    "random_search = RandomizedSearchCV(\n",
    "    estimator=xgb,\n",
    "    param_distributions=param_dist,\n",
    "    n_iter=50,\n",
    "    cv=5,\n",
    "    scoring='roc_auc',\n",
    "    n_jobs=-1\n",
    ")\n"
   ]
  },
  {
   "cell_type": "code",
   "execution_count": 38,
   "id": "f910983f-2a51-4192-8833-fe6959fca652",
   "metadata": {},
   "outputs": [
    {
     "name": "stdout",
     "output_type": "stream",
     "text": [
      "Лучшие параметры: {'colsample_bytree': np.float64(0.9308376736989094), 'gamma': np.float64(0.22323503697812203), 'learning_rate': np.float64(0.1314645982960667), 'max_depth': 3, 'n_estimators': 60, 'subsample': np.float64(0.7602885282282011)}\n",
      "Лучший ROC AUC: 0.8336570658519016\n",
      "Время: 2.67 секунд\n"
     ]
    }
   ],
   "source": [
    "start_time = time.time()\n",
    "random_search.fit(X_train, y_train)\n",
    "end_time = time.time()\n",
    "\n",
    "\n",
    "print(\"Лучшие параметры:\", random_search.best_params_)\n",
    "print(\"Лучший ROC AUC:\", random_search.best_score_)\n",
    "print(\"Время: %.2f секунд\" % (end_time - start_time))"
   ]
  },
  {
   "cell_type": "code",
   "execution_count": 40,
   "id": "885e58aa-ec86-42fd-8781-2910f6ad3aa4",
   "metadata": {},
   "outputs": [
    {
     "name": "stdout",
     "output_type": "stream",
     "text": [
      "Test Accuracy: 0.7402597402597403\n",
      "Test ROC AUC: 0.8130242126918816\n"
     ]
    }
   ],
   "source": [
    "best_model = random_search.best_estimator_\n",
    "y_pred = best_model.predict(X_test)\n",
    "print(\"Test Accuracy:\", accuracy_score(y_test, y_pred))\n",
    "print(\"Test ROC AUC:\", roc_auc_score(y_test, best_model.predict_proba(X_test)[:, 1]))"
   ]
  },
  {
   "cell_type": "markdown",
   "id": "df6d4d6e-7927-42c2-8435-b441f7a11c60",
   "metadata": {},
   "source": [
    "## Задание 2"
   ]
  },
  {
   "cell_type": "code",
   "execution_count": 29,
   "id": "00e347a4-858c-4754-8fc6-f1898ec5761e",
   "metadata": {},
   "outputs": [],
   "source": [
    "space = {\n",
    "    'max_depth': hp.quniform('max_depth', 3, 10, 1),\n",
    "    'learning_rate': hp.uniform('learning_rate', 0.01, 0.3),\n",
    "    'n_estimators': hp.quniform('n_estimators', 50, 300, 1),\n",
    "    'subsample': hp.uniform('subsample', 0.6, 1.0),\n",
    "    'colsample_bytree': hp.uniform('colsample_bytree', 0.6, 1.0),\n",
    "    'gamma': hp.uniform('gamma', 0, 0.5)\n",
    "}"
   ]
  },
  {
   "cell_type": "code",
   "execution_count": 41,
   "id": "239da6b7-e618-4040-ae89-6cf786aea04b",
   "metadata": {},
   "outputs": [],
   "source": [
    "def objective(params):\n",
    "    params = {\n",
    "        'max_depth': int(params['max_depth']),\n",
    "        'learning_rate': params['learning_rate'],\n",
    "        'n_estimators': int(params['n_estimators']),\n",
    "        'subsample': params['subsample'],\n",
    "        'colsample_bytree': params['colsample_bytree'],\n",
    "        'gamma': params['gamma']\n",
    "    }\n",
    "    \n",
    "    model = XGBClassifier(\n",
    "        eval_metric='logloss',\n",
    "        **params\n",
    "    )\n",
    "    \n",
    "    scores = cross_val_score(\n",
    "        model, \n",
    "        X_train, \n",
    "        y_train, \n",
    "        cv=5, \n",
    "        scoring='roc_auc',\n",
    "        n_jobs=-1\n",
    "    )\n",
    "    \n",
    "    return {'loss': -np.mean(scores), 'status': STATUS_OK}"
   ]
  },
  {
   "cell_type": "code",
   "execution_count": 43,
   "id": "d4a7d654-0182-46b7-82c0-bb0291ac8e96",
   "metadata": {},
   "outputs": [
    {
     "name": "stdout",
     "output_type": "stream",
     "text": [
      "100%|█| 50/50 [00:05<00:00,  9.87trial/s, best loss: -0.8345812529497975\n",
      "Лучшие параметры: {'colsample_bytree': np.float64(0.604033248098524), 'gamma': np.float64(0.18983480270459602), 'learning_rate': np.float64(0.044166682261626004), 'max_depth': np.float64(3.0), 'n_estimators': np.float64(82.0), 'subsample': np.float64(0.8574266766330152)}\n",
      "Лучший ROC AUC: 0.8345812529497975\n",
      "Время выполнения: 5.08 секунд\n"
     ]
    }
   ],
   "source": [
    "trials = Trials()\n",
    "start_time = time.time()\n",
    "best = fmin(\n",
    "    fn=objective,\n",
    "    space=space,\n",
    "    algo=tpe.suggest,\n",
    "    max_evals=50,\n",
    "    trials=trials\n",
    ")\n",
    "end_time = time.time()\n",
    "\n",
    "\n",
    "print(\"Лучшие параметры:\", best)\n",
    "print(\"Лучший ROC AUC:\", -trials.best_trial['result']['loss'])\n",
    "print(\"Время выполнения: %.2f секунд\" % (end_time - start_time))"
   ]
  },
  {
   "cell_type": "code",
   "execution_count": 37,
   "id": "fbf1074a-30e0-44fe-9956-2464a42897e5",
   "metadata": {},
   "outputs": [
    {
     "name": "stdout",
     "output_type": "stream",
     "text": [
      "Test Accuracy: 0.7056277056277056\n",
      "Test ROC AUC: 0.8138946035765153\n"
     ]
    }
   ],
   "source": [
    "best_params = {\n",
    "    'max_depth': int(best['max_depth']),\n",
    "    'learning_rate': best['learning_rate'],\n",
    "    'n_estimators': int(best['n_estimators']),\n",
    "    'subsample': best['subsample'],\n",
    "    'colsample_bytree': best['colsample_bytree'],\n",
    "    'gamma': best['gamma']\n",
    "}\n",
    "\n",
    "best_model = XGBClassifier(\n",
    "    eval_metric='logloss',\n",
    "    **best_params\n",
    ")\n",
    "best_model.fit(X_train, y_train)\n",
    "\n",
    "y_pred = best_model.predict(X_test)\n",
    "print(\"Test Accuracy:\", accuracy_score(y_test, y_pred))\n",
    "print(\"Test ROC AUC:\", roc_auc_score(y_test, best_model.predict_proba(X_test)[:, 1]))"
   ]
  },
  {
   "cell_type": "markdown",
   "id": "f293a935-c633-42fd-a9ca-39bd182af4c1",
   "metadata": {},
   "source": [
    "Парарметры\n",
    "- Оба метода выбрали неглубокие деревья (max_depth = 3), что снижает риск переобучения.\n",
    "- TPE выбрал более низкий learning_rate (0.044)\n",
    "- Random Search дал более высокий colsample_bytree (0.931), что может указывать на использование почти всех признаков.\n",
    "- TPE предложил больше деревьев (n_estimators=82 vs. 60)\n",
    "\n",
    "Качество\n",
    "- Оба метода дали схожий ROC AUC (~0.834), что говорит о близком качестве моделей.\n",
    "- Random Search показал лучшую Accuracy (0.74 vs. 0.70), но это может быть случайностью из-за малого тестового набора.\n",
    "- TPE немного лучше по тест ROC AUC (0.814 vs. 0.813).\n",
    "\n",
    "Время оптимизации\n",
    "- Random Search работает быстрее (в 2 раза) из-за простоты метода.\n",
    "- TPE медленнее, но может быть эффективнее на сложных задачах (в данном случае разница в качестве небольшая)."
   ]
  }
 ],
 "metadata": {
  "kernelspec": {
   "display_name": ".pyenv",
   "language": "python",
   "name": ".pyenv"
  },
  "language_info": {
   "codemirror_mode": {
    "name": "ipython",
    "version": 3
   },
   "file_extension": ".py",
   "mimetype": "text/x-python",
   "name": "python",
   "nbconvert_exporter": "python",
   "pygments_lexer": "ipython3",
   "version": "3.13.3"
  }
 },
 "nbformat": 4,
 "nbformat_minor": 5
}
